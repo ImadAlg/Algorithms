{
 "cells": [
  {
   "cell_type": "code",
   "execution_count": 135,
   "id": "4fd452f6-0e59-4b41-9e41-0d2301c2c36a",
   "metadata": {},
   "outputs": [],
   "source": [
    "import numpy as np\n",
    "import time"
   ]
  },
  {
   "cell_type": "code",
   "execution_count": 136,
   "id": "96fd0250-9ba4-47bb-8356-55cf4d7e2d7c",
   "metadata": {},
   "outputs": [],
   "source": [
    "#read instance from .col files\n",
    "def from_file(file_path:str):\n",
    "        with open(file_path) as f:\n",
    "            line = f.readline()\n",
    "            while line[0] != \"p\":\n",
    "                line = f.readline()\n",
    "            n = int(line.split()[2])\n",
    "            adj_mat = []\n",
    "            for i in range(0,n):\n",
    "                adj_mat.append([False]*n)\n",
    "            for line in f:\n",
    "                if line[0] == \"e\":\n",
    "                    w, v = map(int, line.split()[1:])\n",
    "                    adj_mat[w-1][v-1] = adj_mat[v-1][w-1] = True\n",
    "        return np.array(adj_mat)"
   ]
  },
  {
   "cell_type": "code",
   "execution_count": 137,
   "id": "3956eafe-78f6-4b04-912b-7448d1c601be",
   "metadata": {},
   "outputs": [],
   "source": [
    "class DynamicProgramming:\n",
    "    def __init__(self, g:np.ndarray):\n",
    "        self.graphe = g    \n",
    "        self.coloration = [None] * len(g)\n",
    "        self.soluce  = None\n",
    "        self.time_processing = None\n",
    "    \n",
    "    def solve(self) :\n",
    "        t0 = time.time()\n",
    "        #Nunber of vertices\n",
    "        V = len(self.graphe)\n",
    "        #Initial state\n",
    "        state = ([],0)\n",
    "        #All stage Ek\n",
    "        Level = [np.array( [ ( [] , 0) ], dtype=object)]\n",
    "        #for each nodes :\n",
    "        for node in range(V):\n",
    "            #Gets all states from the previous stage :E(k-1)\n",
    "            States = Level.pop()\n",
    "            #Get the cost of each state (sub-soluce)\n",
    "            XG_list = States[:,1]\n",
    "            indStates = np.where(XG_list== XG_list.min())[0]\n",
    "            #Initialisation of new Stage Ek\n",
    "            Solutions = []\n",
    "            #for each sub-solution:\n",
    "            for i in indStates :\n",
    "                #Get a new State for the stage Ek\n",
    "                Solutions.extend(self.colorNode(States[i],node) )\n",
    "            #Add all states to Ek Ek\n",
    "            Level.append(np.array(Solutions))\n",
    "        #Get the best solution\n",
    "        States = Level.pop()\n",
    "        XG_list = States[:,1]\n",
    "        t1 = time.time()\n",
    "        self.coloration , self.soluce = States[np.argmin(XG_list)]\n",
    "        self.time_processing = t1 - t0\n",
    "        return self.coloration,self.soluce,self.time_processing\n",
    "    \n",
    "    #Color a node to transition for the state to another\n",
    "    def colorNode(self,state:np.ndarray, node:int):\n",
    "        if node == 0:\n",
    "            #Color 0 for the first node\n",
    "            NewStates = [ ([0] , 1) ]\n",
    "        else : \n",
    "            #Get the sub-Optimal solution\n",
    "            Soluce = state[0]\n",
    "            #Number of colors for The last state\n",
    "            XG = state[1]\n",
    "            #Initialisation of the new states\n",
    "            NewStates = []\n",
    "            #Get the adjacents nodes to the node that we color\n",
    "            Adjacents = np.where(self.graphe[node][:node] == True)[0]\n",
    "            #Get the colors used for the adjacents node\n",
    "            AdjColor = np.unique( np.array( [Soluce[V] for V in Adjacents] ) )\n",
    "            #Use all color possible to color the node (Two Adjacents nodes mustn't have the same color)\n",
    "            for color in range(XG): # For all color\n",
    "                if color not in AdjColor:\n",
    "                    #Add a color already used ,present in the previous state (XG(n) = XG(n-1))\n",
    "                    NewSoluce = Soluce.copy()\n",
    "                    NewSoluce.append(color)\n",
    "                    NewState = [NewSoluce , XG]\n",
    "                    NewStates.append(NewState)\n",
    "            #Add a new color not present in the previous state (XG(n) = XG(n-1) + 1)\n",
    "            NewSoluce = Soluce.copy()\n",
    "            NewSoluce.append(XG)\n",
    "            NewState = [NewSoluce , XG + 1]\n",
    "            NewStates.append(NewState) \n",
    "        return np.array(NewStates,dtype=object)\n",
    "    \n",
    "    def save(self,file_path):\n",
    "        f = open(file_path, \"w\")\n",
    "        f.write( \"# Solution for the instance \"+file_path+\"\\n\" )\n",
    "        f.write( \"Minimum number of colors used : %d \\n\"%self.soluce )\n",
    "        f.write( \"Execution time :: %f \\n\"%self.time_processing )\n",
    "        f.write( \"Color Affectation to the nodes : \\n\")\n",
    "        [f.write( \"Node \"+ str(i)+ \" :: \"+str(self.coloration[i]) +\"\\n\") for i in range(len(self.coloration))]\n",
    "        f.close()\n",
    "        return\n",
    "    \n",
    "    "
   ]
  },
  {
   "cell_type": "code",
   "execution_count": 138,
   "id": "71353537-1b75-4c76-b840-1586b7a6e930",
   "metadata": {},
   "outputs": [
    {
     "data": {
      "text/plain": [
       "[0, 1, 0, 1, 2, 0, 1, 0, 1, 2, 3, 0, 1, 0, 1, 2, 0, 1, 0, 1, 2, 3, 4]"
      ]
     },
     "execution_count": 138,
     "metadata": {},
     "output_type": "execute_result"
    }
   ],
   "source": [
    "file_name = \"myciel4.col\"\n",
    "g = from_file(file_name)\n",
    "dyP = DynamicProgramming(g)\n",
    "dyP.solve()\n",
    "dyP.save(\"Solutions/soluce_\"+file_name)\n",
    "dyP.coloration"
   ]
  }
 ],
 "metadata": {
  "kernelspec": {
   "display_name": "Python 3 (ipykernel)",
   "language": "python",
   "name": "python3"
  },
  "language_info": {
   "codemirror_mode": {
    "name": "ipython",
    "version": 3
   },
   "file_extension": ".py",
   "mimetype": "text/x-python",
   "name": "python",
   "nbconvert_exporter": "python",
   "pygments_lexer": "ipython3",
   "version": "3.10.4"
  }
 },
 "nbformat": 4,
 "nbformat_minor": 5
}
